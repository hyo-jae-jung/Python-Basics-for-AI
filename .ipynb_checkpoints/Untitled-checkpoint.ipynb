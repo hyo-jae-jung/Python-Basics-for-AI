{
 "cells": [
  {
   "cell_type": "code",
   "execution_count": 1,
   "id": "782ba511",
   "metadata": {},
   "outputs": [],
   "source": [
    "class SoccerPlayer():\n",
    "    def __init__(self,name : str ,position : str ,back_number : int):\n",
    "        self.name=name\n",
    "        self.position=position\n",
    "        self.back_number=back_number\n",
    "    \n",
    "    def __str__(self):\n",
    "        return \"Hello, My name is %s. I play in %s in center \" % \\\n",
    "        (self.name, self.position)"
   ]
  },
  {
   "cell_type": "code",
   "execution_count": 2,
   "id": "06bc1c88",
   "metadata": {},
   "outputs": [],
   "source": [
    "park=SoccerPlayer('park','LWF',13)"
   ]
  },
  {
   "cell_type": "code",
   "execution_count": 3,
   "id": "d118ae0c",
   "metadata": {
    "scrolled": true
   },
   "outputs": [
    {
     "name": "stdout",
     "output_type": "stream",
     "text": [
      "Hello, My name is park. I play in LWF in center \n"
     ]
    }
   ],
   "source": [
    "print(park)"
   ]
  },
  {
   "cell_type": "code",
   "execution_count": 89,
   "id": "3272d8c4",
   "metadata": {
    "scrolled": true
   },
   "outputs": [],
   "source": [
    "class Note(object):\n",
    "    def __init__(self,title : str ,content : str = None):\n",
    "        self.title=title\n",
    "        self.content=content\n",
    "\n",
    "    def write(self,content):\n",
    "        self.content=content\n",
    "        \n",
    "    def erase(self):\n",
    "        self.content=None"
   ]
  },
  {
   "cell_type": "code",
   "execution_count": 148,
   "id": "a9a35a14",
   "metadata": {},
   "outputs": [
    {
     "ename": "SyntaxError",
     "evalue": "invalid syntax (271923729.py, line 9)",
     "output_type": "error",
     "traceback": [
      "\u001b[0;36m  File \u001b[0;32m\"/tmp/ipykernel_1621/271923729.py\"\u001b[0;36m, line \u001b[0;32m9\u001b[0m\n\u001b[0;31m    self.book{note}\u001b[0m\n\u001b[0m             ^\u001b[0m\n\u001b[0;31mSyntaxError\u001b[0m\u001b[0;31m:\u001b[0m invalid syntax\n"
     ]
    }
   ],
   "source": [
    "class NoteBook(object):\n",
    "    \n",
    "    def __init__(self,title,page:int,book):\n",
    "        self.title=title\n",
    "        self.page=0\n",
    "        self.book={}\n",
    "\n",
    "    def add_note(self,note):\n",
    "        self.book{note}\n",
    "        self.page+=1\n",
    "        "
   ]
  },
  {
   "cell_type": "code",
   "execution_count": 105,
   "id": "90223d47",
   "metadata": {},
   "outputs": [],
   "source": [
    "a = Note('a','hello a')"
   ]
  },
  {
   "cell_type": "code",
   "execution_count": 114,
   "id": "887051a5",
   "metadata": {
    "scrolled": true
   },
   "outputs": [
    {
     "data": {
      "text/plain": [
       "'hello a'"
      ]
     },
     "execution_count": 114,
     "metadata": {},
     "output_type": "execute_result"
    }
   ],
   "source": [
    "a.content"
   ]
  },
  {
   "cell_type": "code",
   "execution_count": 135,
   "id": "ec5c155c",
   "metadata": {},
   "outputs": [],
   "source": [
    "A = NoteBook('books',a,1)"
   ]
  },
  {
   "cell_type": "code",
   "execution_count": 140,
   "id": "41f52db3",
   "metadata": {},
   "outputs": [
    {
     "data": {
      "text/plain": [
       "'hello a'"
      ]
     },
     "execution_count": 140,
     "metadata": {},
     "output_type": "execute_result"
    }
   ],
   "source": [
    "A.note.content"
   ]
  }
 ],
 "metadata": {
  "kernelspec": {
   "display_name": "Python 3 (ipykernel)",
   "language": "python",
   "name": "python3"
  },
  "language_info": {
   "codemirror_mode": {
    "name": "ipython",
    "version": 3
   },
   "file_extension": ".py",
   "mimetype": "text/x-python",
   "name": "python",
   "nbconvert_exporter": "python",
   "pygments_lexer": "ipython3",
   "version": "3.8.10"
  }
 },
 "nbformat": 4,
 "nbformat_minor": 5
}
