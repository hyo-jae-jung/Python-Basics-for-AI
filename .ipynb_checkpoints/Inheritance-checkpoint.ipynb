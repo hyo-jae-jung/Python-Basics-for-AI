{
 "cells": [
  {
   "cell_type": "code",
   "execution_count": 58,
   "id": "c0b829de",
   "metadata": {},
   "outputs": [],
   "source": [
    "class Person:\n",
    "    def __init__(self,name,age):\n",
    "        self.name=name\n",
    "        self.age=age\n",
    "    \n",
    "    def __str__(self):\n",
    "        return f'My name is {self.name}. I\\'m {self.age} years old.'"
   ]
  },
  {
   "cell_type": "code",
   "execution_count": 59,
   "id": "4049eac9",
   "metadata": {},
   "outputs": [],
   "source": [
    "class Korean(Person):\n",
    "    def __init__(self,name,age):\n",
    "        super().__init__(name,age)\n",
    "        self.language='korean'\n",
    "        \n",
    "    def __str__(self):\n",
    "        return f'My name is {self.name}. I\\'m {self.age} years old. And I can speak {self.language}.'"
   ]
  },
  {
   "cell_type": "code",
   "execution_count": 62,
   "id": "0437a621",
   "metadata": {},
   "outputs": [],
   "source": [
    "jung = Korean('Hyojae',34)"
   ]
  },
  {
   "cell_type": "code",
   "execution_count": 63,
   "id": "17757da1",
   "metadata": {
    "scrolled": false
   },
   "outputs": [
    {
     "name": "stdout",
     "output_type": "stream",
     "text": [
      "My name is Hyojae. I'm 34 years old. And I can speak korean.\n"
     ]
    }
   ],
   "source": [
    "print(jung)"
   ]
  },
  {
   "cell_type": "code",
   "execution_count": null,
   "id": "e529209d",
   "metadata": {},
   "outputs": [],
   "source": []
  }
 ],
 "metadata": {
  "kernelspec": {
   "display_name": "Python 3 (ipykernel)",
   "language": "python",
   "name": "python3"
  },
  "language_info": {
   "codemirror_mode": {
    "name": "ipython",
    "version": 3
   },
   "file_extension": ".py",
   "mimetype": "text/x-python",
   "name": "python",
   "nbconvert_exporter": "python",
   "pygments_lexer": "ipython3",
   "version": "3.8.10"
  }
 },
 "nbformat": 4,
 "nbformat_minor": 5
}
