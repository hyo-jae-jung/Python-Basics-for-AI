{
 "cells": [
  {
   "cell_type": "code",
   "execution_count": 1,
   "id": "782ba511",
   "metadata": {},
   "outputs": [],
   "source": [
    "class SoccerPlayer():\n",
    "    def __init__(self,name : str ,position : str ,back_number : int):\n",
    "        self.name=name\n",
    "        self.position=position\n",
    "        self.back_number=back_number\n",
    "    \n",
    "    def __str__(self):\n",
    "        return \"Hello, My name is %s. I play in %s in center \" % \\\n",
    "        (self.name, self.position)"
   ]
  },
  {
   "cell_type": "code",
   "execution_count": 2,
   "id": "06bc1c88",
   "metadata": {},
   "outputs": [],
   "source": [
    "park=SoccerPlayer('park','LWF',13)"
   ]
  },
  {
   "cell_type": "code",
   "execution_count": 3,
   "id": "d118ae0c",
   "metadata": {
    "scrolled": true
   },
   "outputs": [
    {
     "name": "stdout",
     "output_type": "stream",
     "text": [
      "Hello, My name is park. I play in LWF in center \n"
     ]
    }
   ],
   "source": [
    "print(park)"
   ]
  },
  {
   "cell_type": "markdown",
   "id": "b6eeb2ca",
   "metadata": {},
   "source": [
    "구현 가능한 OOP 만들기 - 노트북\n",
    "\n",
    "- Note를 정리하는 프로그램(O)\n",
    "- 사용자는 Note에 뭔가를 적을 수 있다.(O)\n",
    "- Note에는 Content가 있고, 내용을 제거할 수 있다.(O)\n",
    "- 두 개의 노트북을 합쳐 하나로 만들 수 있다.()\n",
    "- Note는 Notebook에 삽입된다.(O)\n",
    "- Notebook은 Note가 삽일 될 때 페이지를 생성하며(), 최고 300페이지까지 저장 가능하다()\n",
    "- 300 페이지가 넘으면 더 이상 노트를 삽입하지 못한다.()"
   ]
  },
  {
   "cell_type": "code",
   "execution_count": 299,
   "id": "3272d8c4",
   "metadata": {
    "scrolled": true
   },
   "outputs": [],
   "source": [
    "class Note(object):\n",
    "    def __init__(self,title : str ,content : str = None):\n",
    "        self.title=title\n",
    "        self.content=content\n",
    "    \n",
    "    def __str__(self):\n",
    "        return self\n",
    "\n",
    "    def write(self,content):\n",
    "        self.content=content\n",
    "        \n",
    "    def erase(self):\n",
    "        self.content=None"
   ]
  },
  {
   "cell_type": "code",
   "execution_count": 300,
   "id": "12814ed6",
   "metadata": {},
   "outputs": [],
   "source": [
    "a = Note(\"first note\",'Hello first note!!')"
   ]
  },
  {
   "cell_type": "code",
   "execution_count": 301,
   "id": "9020b513",
   "metadata": {},
   "outputs": [],
   "source": [
    "b = Note(\"second note\",\"Hello second note!!!\")"
   ]
  },
  {
   "cell_type": "code",
   "execution_count": 302,
   "id": "a9a35a14",
   "metadata": {},
   "outputs": [],
   "source": [
    "class NoteBook(object):\n",
    "    \n",
    "    def __init__(self,title):\n",
    "        self.title=title\n",
    "        self.book={}\n",
    "        self.page_number=0\n",
    "        \n",
    "    def add_note(self,note):\n",
    "        self.book[note] = {'title':note.title,'content':note.content}\n",
    "        self.page_number+=1\n",
    "        \n",
    "    def delete_note(self,note):\n",
    "        del self.book[note]\n",
    "        self.page_number-=1"
   ]
  },
  {
   "cell_type": "code",
   "execution_count": 303,
   "id": "dae6d0bd",
   "metadata": {},
   "outputs": [],
   "source": [
    "A = NoteBook('Notes')"
   ]
  },
  {
   "cell_type": "code",
   "execution_count": 304,
   "id": "11c0d3d5",
   "metadata": {},
   "outputs": [
    {
     "data": {
      "text/plain": [
       "0"
      ]
     },
     "execution_count": 304,
     "metadata": {},
     "output_type": "execute_result"
    }
   ],
   "source": [
    "A.page_number"
   ]
  },
  {
   "cell_type": "code",
   "execution_count": 324,
   "id": "9fbe1c40",
   "metadata": {},
   "outputs": [],
   "source": [
    "A.add_note(a)"
   ]
  },
  {
   "cell_type": "code",
   "execution_count": 306,
   "id": "176c0816",
   "metadata": {},
   "outputs": [
    {
     "data": {
      "text/plain": [
       "1"
      ]
     },
     "execution_count": 306,
     "metadata": {},
     "output_type": "execute_result"
    }
   ],
   "source": [
    "A.page_number"
   ]
  },
  {
   "cell_type": "code",
   "execution_count": 307,
   "id": "2b284b06",
   "metadata": {},
   "outputs": [],
   "source": [
    "A.add_note(b)"
   ]
  },
  {
   "cell_type": "code",
   "execution_count": 308,
   "id": "974cd333",
   "metadata": {},
   "outputs": [
    {
     "data": {
      "text/plain": [
       "2"
      ]
     },
     "execution_count": 308,
     "metadata": {},
     "output_type": "execute_result"
    }
   ],
   "source": [
    "A.page_number"
   ]
  },
  {
   "cell_type": "code",
   "execution_count": 325,
   "id": "c5ca920b",
   "metadata": {},
   "outputs": [
    {
     "data": {
      "text/plain": [
       "{<__main__.Note at 0x7f7230046c10>: {'title': 'second note',\n",
       "  'content': 'Hello second note!!!'},\n",
       " <__main__.Note at 0x7f7230046a90>: {'title': 'first note',\n",
       "  'content': 'Hello first note!!'}}"
      ]
     },
     "execution_count": 325,
     "metadata": {},
     "output_type": "execute_result"
    }
   ],
   "source": [
    "A.book"
   ]
  },
  {
   "cell_type": "code",
   "execution_count": 326,
   "id": "9ebac6f4",
   "metadata": {
    "scrolled": true
   },
   "outputs": [
    {
     "data": {
      "text/plain": [
       "{'title': 'first note', 'content': 'Hello first note!!'}"
      ]
     },
     "execution_count": 326,
     "metadata": {},
     "output_type": "execute_result"
    }
   ],
   "source": [
    "A.book[a]"
   ]
  },
  {
   "cell_type": "code",
   "execution_count": 327,
   "id": "9d23fef2",
   "metadata": {
    "scrolled": true
   },
   "outputs": [
    {
     "data": {
      "text/plain": [
       "{'title': 'second note', 'content': 'Hello second note!!!'}"
      ]
     },
     "execution_count": 327,
     "metadata": {},
     "output_type": "execute_result"
    }
   ],
   "source": [
    "A.book[b]"
   ]
  },
  {
   "cell_type": "code",
   "execution_count": 320,
   "id": "6b66463a",
   "metadata": {
    "scrolled": true
   },
   "outputs": [
    {
     "ename": "KeyError",
     "evalue": "<__main__.Note object at 0x7f7230046a90>",
     "output_type": "error",
     "traceback": [
      "\u001b[0;31m---------------------------------------------------------------------------\u001b[0m",
      "\u001b[0;31mKeyError\u001b[0m                                  Traceback (most recent call last)",
      "\u001b[0;32m/tmp/ipykernel_1200/3629995881.py\u001b[0m in \u001b[0;36m<module>\u001b[0;34m\u001b[0m\n\u001b[0;32m----> 1\u001b[0;31m \u001b[0mA\u001b[0m\u001b[0;34m.\u001b[0m\u001b[0mdelete_note\u001b[0m\u001b[0;34m(\u001b[0m\u001b[0ma\u001b[0m\u001b[0;34m)\u001b[0m\u001b[0;34m\u001b[0m\u001b[0;34m\u001b[0m\u001b[0m\n\u001b[0m",
      "\u001b[0;32m/tmp/ipykernel_1200/3236128394.py\u001b[0m in \u001b[0;36mdelete_note\u001b[0;34m(self, note)\u001b[0m\n\u001b[1;32m     11\u001b[0m \u001b[0;34m\u001b[0m\u001b[0m\n\u001b[1;32m     12\u001b[0m     \u001b[0;32mdef\u001b[0m \u001b[0mdelete_note\u001b[0m\u001b[0;34m(\u001b[0m\u001b[0mself\u001b[0m\u001b[0;34m,\u001b[0m\u001b[0mnote\u001b[0m\u001b[0;34m)\u001b[0m\u001b[0;34m:\u001b[0m\u001b[0;34m\u001b[0m\u001b[0;34m\u001b[0m\u001b[0m\n\u001b[0;32m---> 13\u001b[0;31m         \u001b[0;32mdel\u001b[0m \u001b[0mself\u001b[0m\u001b[0;34m.\u001b[0m\u001b[0mbook\u001b[0m\u001b[0;34m[\u001b[0m\u001b[0mnote\u001b[0m\u001b[0;34m]\u001b[0m\u001b[0;34m\u001b[0m\u001b[0;34m\u001b[0m\u001b[0m\n\u001b[0m\u001b[1;32m     14\u001b[0m         \u001b[0mself\u001b[0m\u001b[0;34m.\u001b[0m\u001b[0mpage_number\u001b[0m\u001b[0;34m-=\u001b[0m\u001b[0;36m1\u001b[0m\u001b[0;34m\u001b[0m\u001b[0;34m\u001b[0m\u001b[0m\n",
      "\u001b[0;31mKeyError\u001b[0m: <__main__.Note object at 0x7f7230046a90>"
     ]
    }
   ],
   "source": [
    "A.delete_note(a)"
   ]
  }
 ],
 "metadata": {
  "kernelspec": {
   "display_name": "Python 3 (ipykernel)",
   "language": "python",
   "name": "python3"
  },
  "language_info": {
   "codemirror_mode": {
    "name": "ipython",
    "version": 3
   },
   "file_extension": ".py",
   "mimetype": "text/x-python",
   "name": "python",
   "nbconvert_exporter": "python",
   "pygments_lexer": "ipython3",
   "version": "3.8.10"
  }
 },
 "nbformat": 4,
 "nbformat_minor": 5
}
