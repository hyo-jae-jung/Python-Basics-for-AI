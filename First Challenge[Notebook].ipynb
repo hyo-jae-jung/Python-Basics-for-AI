{
 "cells": [
  {
   "cell_type": "code",
   "execution_count": 1,
   "id": "782ba511",
   "metadata": {},
   "outputs": [],
   "source": [
    "class SoccerPlayer():\n",
    "    def __init__(self,name : str ,position : str ,back_number : int):\n",
    "        self.name=name\n",
    "        self.position=position\n",
    "        self.back_number=back_number\n",
    "    \n",
    "    def __str__(self):\n",
    "        return \"Hello, My name is %s. I play in %s in center \" % \\\n",
    "        (self.name, self.position)"
   ]
  },
  {
   "cell_type": "code",
   "execution_count": 2,
   "id": "06bc1c88",
   "metadata": {},
   "outputs": [],
   "source": [
    "park=SoccerPlayer('park','LWF',13)"
   ]
  },
  {
   "cell_type": "code",
   "execution_count": 3,
   "id": "d118ae0c",
   "metadata": {
    "scrolled": true
   },
   "outputs": [
    {
     "name": "stdout",
     "output_type": "stream",
     "text": [
      "Hello, My name is park. I play in LWF in center \n"
     ]
    }
   ],
   "source": [
    "print(park)"
   ]
  },
  {
   "cell_type": "markdown",
   "id": "b6eeb2ca",
   "metadata": {},
   "source": [
    "구현 가능한 OOP 만들기 - 노트북\n",
    "\n",
    "- Note를 정리하는 프로그램(O)\n",
    "- 사용자는 Note에 뭔가를 적을 수 있다.(O)\n",
    "- Note에는 Content가 있고, 내용을 제거할 수 있다.(O)\n",
    "- 두 개의 노트북을 합쳐 하나로 만들 수 있다.(O)\n",
    "- Note는 Notebook에 삽입된다.(O)\n",
    "- Notebook은 Note가 삽일 될 때 페이지를 생성하며(O), 최고 300페이지까지 저장 가능하다(O)\n",
    "- 300 페이지가 넘으면 더 이상 노트를 삽입하지 못한다.(O)"
   ]
  },
  {
   "cell_type": "code",
   "execution_count": 1,
   "id": "3272d8c4",
   "metadata": {
    "scrolled": true
   },
   "outputs": [],
   "source": [
    "class Note(object):\n",
    "    def __init__(self,title : str ,content : str = None):\n",
    "        self.title=title\n",
    "        self.content=content\n",
    "    \n",
    "    def __str__(self):\n",
    "        return self.title\n",
    "\n",
    "    def write(self,content):\n",
    "        self.content=content\n",
    "        \n",
    "    def erase(self):\n",
    "        self.content=None\n",
    "        \n",
    "    def __add__(self,other):\n",
    "        self.content+=other.content\n",
    "        return self.content+other.content"
   ]
  },
  {
   "cell_type": "code",
   "execution_count": 2,
   "id": "12814ed6",
   "metadata": {},
   "outputs": [],
   "source": [
    "a = Note(\"first note\",'Hello first note!!')"
   ]
  },
  {
   "cell_type": "code",
   "execution_count": 3,
   "id": "7de625a9",
   "metadata": {},
   "outputs": [
    {
     "name": "stdout",
     "output_type": "stream",
     "text": [
      "first note\n"
     ]
    }
   ],
   "source": [
    "print(a)"
   ]
  },
  {
   "cell_type": "code",
   "execution_count": 4,
   "id": "9020b513",
   "metadata": {},
   "outputs": [],
   "source": [
    "b = Note(\"second note\",\"Hello second note!!!\")"
   ]
  },
  {
   "cell_type": "code",
   "execution_count": 5,
   "id": "439a41f0",
   "metadata": {
    "scrolled": true
   },
   "outputs": [
    {
     "data": {
      "text/plain": [
       "'Hello first note!!Hello second note!!!Hello second note!!!'"
      ]
     },
     "execution_count": 5,
     "metadata": {},
     "output_type": "execute_result"
    }
   ],
   "source": [
    "a+b"
   ]
  },
  {
   "cell_type": "code",
   "execution_count": 23,
   "id": "a9a35a14",
   "metadata": {},
   "outputs": [],
   "source": [
    "class NoteBook(object):\n",
    "    \n",
    "    def __init__(self,title):\n",
    "        self.title=title\n",
    "        self.book={}\n",
    "        self.page_number=0\n",
    "        \n",
    "    def __str__(self):\n",
    "        return self.title\n",
    "        \n",
    "    def add_note(self,note):\n",
    "        if self.page_number >= 300:\n",
    "             print(f\"The number of notes has been exceeded. Notes count:{self.page_number}\")\n",
    "        else:\n",
    "            self.book[note] = {'title':note.title,'content':note.content}\n",
    "            self.page_number+=1\n",
    "            print(f'New note has been added. Notes count:{self.page_number}')\n",
    "        \n",
    "    def delete_note(self,note):\n",
    "        if self.page_number == 0:\n",
    "            print('Note does not exist.')\n",
    "        else:\n",
    "            self.page_number -= 1\n",
    "            print(f'{note} has been deleted. Notes count:{self.page_number}')\n",
    "            del self.book[note]\n",
    "\n",
    "    def merge_book(self,notebook):\n",
    "        total_page = self.page_number + notebook.page_number\n",
    "        if total_page > 300:\n",
    "            print(f\"The number of notes has been exceeded. Notes count:{total_page}\")\n",
    "        else :\n",
    "            self.page_number += notebook.page_number\n",
    "            notebook_title = notebook.title\n",
    "            for key,value in notebook.book.items():\n",
    "                self.book[key] = value\n",
    "            del notebook\n",
    "            print(f'{notebook_title} has been merged with {self.title}. Notes count:{self.page_number}')"
   ]
  },
  {
   "cell_type": "code",
   "execution_count": 24,
   "id": "dae6d0bd",
   "metadata": {
    "scrolled": false
   },
   "outputs": [],
   "source": [
    "A = NoteBook('Notes')"
   ]
  },
  {
   "cell_type": "code",
   "execution_count": 25,
   "id": "194cc9af",
   "metadata": {},
   "outputs": [
    {
     "name": "stdout",
     "output_type": "stream",
     "text": [
      "Notes\n"
     ]
    }
   ],
   "source": [
    "print(A)"
   ]
  },
  {
   "cell_type": "code",
   "execution_count": 9,
   "id": "9fbe1c40",
   "metadata": {},
   "outputs": [
    {
     "name": "stdout",
     "output_type": "stream",
     "text": [
      "New note has been added. Notes count:1\n"
     ]
    }
   ],
   "source": [
    "A.add_note(a)"
   ]
  },
  {
   "cell_type": "code",
   "execution_count": 10,
   "id": "1732091e",
   "metadata": {},
   "outputs": [
    {
     "name": "stdout",
     "output_type": "stream",
     "text": [
      "New note has been added. Notes count:2\n"
     ]
    }
   ],
   "source": [
    "A.add_note(b)"
   ]
  },
  {
   "cell_type": "code",
   "execution_count": 11,
   "id": "1456eb4b",
   "metadata": {},
   "outputs": [
    {
     "data": {
      "text/plain": [
       "{<__main__.Note at 0x7fdb90341a60>: {'title': 'first note',\n",
       "  'content': 'Hello first note!!Hello second note!!!'},\n",
       " <__main__.Note at 0x7fdb90341730>: {'title': 'second note',\n",
       "  'content': 'Hello second note!!!'}}"
      ]
     },
     "execution_count": 11,
     "metadata": {},
     "output_type": "execute_result"
    }
   ],
   "source": [
    "A.book"
   ]
  },
  {
   "cell_type": "code",
   "execution_count": 12,
   "id": "2d0f452d",
   "metadata": {},
   "outputs": [],
   "source": [
    "c=Note('3rd note','Hello 3rd!!!!!')"
   ]
  },
  {
   "cell_type": "code",
   "execution_count": 13,
   "id": "0771c9bd",
   "metadata": {},
   "outputs": [],
   "source": [
    "B = NoteBook('Another')"
   ]
  },
  {
   "cell_type": "code",
   "execution_count": 14,
   "id": "becff9de",
   "metadata": {},
   "outputs": [
    {
     "name": "stdout",
     "output_type": "stream",
     "text": [
      "New note has been added. Notes count:1\n"
     ]
    }
   ],
   "source": [
    "B.add_note(c)"
   ]
  },
  {
   "cell_type": "code",
   "execution_count": 15,
   "id": "a967acff",
   "metadata": {
    "scrolled": false
   },
   "outputs": [
    {
     "data": {
      "text/plain": [
       "{<__main__.Note at 0x7fdb902f3940>: {'title': '3rd note',\n",
       "  'content': 'Hello 3rd!!!!!'}}"
      ]
     },
     "execution_count": 15,
     "metadata": {},
     "output_type": "execute_result"
    }
   ],
   "source": [
    "B.book"
   ]
  },
  {
   "cell_type": "code",
   "execution_count": 16,
   "id": "f7e58565",
   "metadata": {
    "scrolled": true
   },
   "outputs": [
    {
     "name": "stdout",
     "output_type": "stream",
     "text": [
      "Another has been merged with Notes. Notes count:3\n"
     ]
    }
   ],
   "source": [
    "A.merge_book(B)"
   ]
  },
  {
   "cell_type": "code",
   "execution_count": 17,
   "id": "307f3c6b",
   "metadata": {},
   "outputs": [
    {
     "data": {
      "text/plain": [
       "{<__main__.Note at 0x7fdb90341a60>: {'title': 'first note',\n",
       "  'content': 'Hello first note!!Hello second note!!!'},\n",
       " <__main__.Note at 0x7fdb90341730>: {'title': 'second note',\n",
       "  'content': 'Hello second note!!!'},\n",
       " <__main__.Note at 0x7fdb902f3940>: {'title': '3rd note',\n",
       "  'content': 'Hello 3rd!!!!!'}}"
      ]
     },
     "execution_count": 17,
     "metadata": {},
     "output_type": "execute_result"
    }
   ],
   "source": [
    "A.book"
   ]
  },
  {
   "cell_type": "code",
   "execution_count": 18,
   "id": "2a1b4265",
   "metadata": {
    "scrolled": false
   },
   "outputs": [
    {
     "data": {
      "text/plain": [
       "{<__main__.Note at 0x7fdb902f3940>: {'title': '3rd note',\n",
       "  'content': 'Hello 3rd!!!!!'}}"
      ]
     },
     "execution_count": 18,
     "metadata": {},
     "output_type": "execute_result"
    }
   ],
   "source": [
    "B.book"
   ]
  }
 ],
 "metadata": {
  "kernelspec": {
   "display_name": "Python 3 (ipykernel)",
   "language": "python",
   "name": "python3"
  },
  "language_info": {
   "codemirror_mode": {
    "name": "ipython",
    "version": 3
   },
   "file_extension": ".py",
   "mimetype": "text/x-python",
   "name": "python",
   "nbconvert_exporter": "python",
   "pygments_lexer": "ipython3",
   "version": "3.8.10"
  }
 },
 "nbformat": 4,
 "nbformat_minor": 5
}
