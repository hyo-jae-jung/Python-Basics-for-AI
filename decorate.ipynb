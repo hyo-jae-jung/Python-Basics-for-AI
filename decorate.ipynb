{
 "cells": [
  {
   "cell_type": "markdown",
   "id": "78f88ea6",
   "metadata": {},
   "source": [
    "first-class objects\n",
    "파이썬의 함수는 일등함수 또는 일급 객체(first-class objects)여서\n",
    "함수를 변수처럼 사용 할 수가 있다.\n",
    "\n",
    "\n",
    "decorator\n",
    "\n",
    "closure"
   ]
  },
  {
   "cell_type": "code",
   "execution_count": 7,
   "id": "aa2c60a3",
   "metadata": {},
   "outputs": [
    {
     "ename": "TypeError",
     "evalue": "formula() missing 1 required positional argument: 'argument_list'",
     "output_type": "error",
     "traceback": [
      "\u001b[0;31m---------------------------------------------------------------------------\u001b[0m",
      "\u001b[0;31mTypeError\u001b[0m                                 Traceback (most recent call last)",
      "\u001b[0;32m/tmp/ipykernel_1860/196836014.py\u001b[0m in \u001b[0;36m<module>\u001b[0;34m\u001b[0m\n\u001b[1;32m      9\u001b[0m \u001b[0margument_list\u001b[0m\u001b[0;34m=\u001b[0m\u001b[0;34m[\u001b[0m\u001b[0msquare\u001b[0m\u001b[0;34m,\u001b[0m \u001b[0mcube\u001b[0m\u001b[0;34m]\u001b[0m\u001b[0;34m\u001b[0m\u001b[0;34m\u001b[0m\u001b[0m\n\u001b[1;32m     10\u001b[0m \u001b[0;34m\u001b[0m\u001b[0m\n\u001b[0;32m---> 11\u001b[0;31m \u001b[0mformula\u001b[0m\u001b[0;34m(\u001b[0m\u001b[0margument_list\u001b[0m\u001b[0;34m)\u001b[0m\u001b[0;34m\u001b[0m\u001b[0;34m\u001b[0m\u001b[0m\n\u001b[0m",
      "\u001b[0;31mTypeError\u001b[0m: formula() missing 1 required positional argument: 'argument_list'"
     ]
    }
   ],
   "source": [
    "def square(x):\n",
    "    return x * x\n",
    "def cube(x):\n",
    "    return x*x*x\n",
    "\n",
    "def formula(method, argument_list):\n",
    "    return [method(value) for value in argument_list]\n",
    "\n",
    "argument_list=[square, cube]\n",
    "\n",
    "formula(argument_list)"
   ]
  },
  {
   "cell_type": "markdown",
   "id": "1b239466",
   "metadata": {},
   "source": [
    "inner function"
   ]
  },
  {
   "cell_type": "code",
   "execution_count": 1,
   "id": "9cf7ecdf",
   "metadata": {},
   "outputs": [],
   "source": [
    "def print_msg(msg):\n",
    "    def printer():\n",
    "        print(msg)\n",
    "    printer()"
   ]
  },
  {
   "cell_type": "code",
   "execution_count": 2,
   "id": "0f047fcc",
   "metadata": {},
   "outputs": [
    {
     "name": "stdout",
     "output_type": "stream",
     "text": [
      "Hello, Python\n"
     ]
    }
   ],
   "source": [
    "print_msg(\"Hello, Python\")"
   ]
  }
 ],
 "metadata": {
  "kernelspec": {
   "display_name": "Python 3 (ipykernel)",
   "language": "python",
   "name": "python3"
  },
  "language_info": {
   "codemirror_mode": {
    "name": "ipython",
    "version": 3
   },
   "file_extension": ".py",
   "mimetype": "text/x-python",
   "name": "python",
   "nbconvert_exporter": "python",
   "pygments_lexer": "ipython3",
   "version": "3.8.10"
  }
 },
 "nbformat": 4,
 "nbformat_minor": 5
}
