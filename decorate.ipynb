{
 "cells": [
  {
   "cell_type": "markdown",
   "id": "78f88ea6",
   "metadata": {},
   "source": [
    "First-class objects\n",
    "파이썬의 함수는 일등함수 또는 일급 객체(first-class objects)여서\n",
    "'함수를 변수처럼' 사용 할 수가 있다.\n",
    "\n",
    "decorator"
   ]
  },
  {
   "cell_type": "code",
   "execution_count": 6,
   "id": "aa2c60a3",
   "metadata": {},
   "outputs": [
    {
     "data": {
      "text/plain": [
       "[4, 9]"
      ]
     },
     "execution_count": 6,
     "metadata": {},
     "output_type": "execute_result"
    }
   ],
   "source": [
    "#first-class objects\n",
    "def square(x):\n",
    "    return x * x\n",
    "def cube(x):\n",
    "    return x*x*x\n",
    "\n",
    "def formula(method, argument_list):\n",
    "    return [method(value) for value in argument_list]\n",
    "# 함수(formula)의 value(method)나 return값(method)으로 함수(method)를 사용 할 수 있다. 이게 일급함수\n",
    "\n",
    "argument_list=[2, 3]\n",
    "print()\n",
    "formula(square,argument_list)"
   ]
  },
  {
   "cell_type": "markdown",
   "id": "1b239466",
   "metadata": {},
   "source": [
    "Inner function"
   ]
  },
  {
   "cell_type": "code",
   "execution_count": 8,
   "id": "9cf7ecdf",
   "metadata": {},
   "outputs": [],
   "source": [
    "# inner function\n",
    "def print_msg(msg):\n",
    "    def printer():\n",
    "        print(msg)\n",
    "    return printer # 이렇게 함수 자체가 리턴이 되는걸 closure 라고 한다. 자바스크립트에서 많이 나온다고 함."
   ]
  },
  {
   "cell_type": "code",
   "execution_count": 9,
   "id": "0f047fcc",
   "metadata": {
    "scrolled": true
   },
   "outputs": [
    {
     "name": "stdout",
     "output_type": "stream",
     "text": [
      "Hello, Python\n"
     ]
    }
   ],
   "source": [
    "another = print_msg(\"Hello, Python\")\n",
    "another()"
   ]
  },
  {
   "cell_type": "code",
   "execution_count": 10,
   "id": "776e76bc",
   "metadata": {
    "scrolled": false
   },
   "outputs": [
    {
     "name": "stdout",
     "output_type": "stream",
     "text": [
      "******************************\n",
      "Hello, Python\n",
      "******************************\n"
     ]
    }
   ],
   "source": [
    "# Decorator\n",
    "# 파이썬의 특성인 일급함수와 inner function을 이용해서 만들어진 기능.\n",
    "\n",
    "def star(func):\n",
    "    def inner(*args,**kwargs):\n",
    "        print('*'*30)\n",
    "        func(*args,**kwargs)\n",
    "        print('*'*30)\n",
    "    return inner\n",
    "\n",
    "@star\n",
    "def printer(msg):\n",
    "    print(msg)\n",
    "printer(\"Hello, Python\")\n"
   ]
  },
  {
   "cell_type": "code",
   "execution_count": null,
   "id": "1b0e282c",
   "metadata": {},
   "outputs": [],
   "source": []
  },
  {
   "cell_type": "code",
   "execution_count": null,
   "id": "4ee21096",
   "metadata": {},
   "outputs": [],
   "source": []
  }
 ],
 "metadata": {
  "kernelspec": {
   "display_name": "Python 3 (ipykernel)",
   "language": "python",
   "name": "python3"
  },
  "language_info": {
   "codemirror_mode": {
    "name": "ipython",
    "version": 3
   },
   "file_extension": ".py",
   "mimetype": "text/x-python",
   "name": "python",
   "nbconvert_exporter": "python",
   "pygments_lexer": "ipython3",
   "version": "3.8.10"
  }
 },
 "nbformat": 4,
 "nbformat_minor": 5
}
