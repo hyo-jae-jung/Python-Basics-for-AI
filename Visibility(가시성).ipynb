{
 "cells": [
  {
   "cell_type": "markdown",
   "id": "bbbe8fd6",
   "metadata": {},
   "source": [
    "Encapsulation or Information Hiding"
   ]
  },
  {
   "cell_type": "markdown",
   "id": "2d5fe551",
   "metadata": {},
   "source": [
    "Visibility Example 1\n",
    "- Product 객체를 Inventory 객체에 추가\n",
    "- Inventory에는 오직 Product 객체만 들어감\n",
    "- Inventory에 Product가 몇 개인지 확인이 필요\n",
    "- Inventory에 Product items는 직접 접근이 불가"
   ]
  },
  {
   "cell_type": "code",
   "execution_count": 2,
   "id": "9ae64388",
   "metadata": {},
   "outputs": [],
   "source": [
    "class Product:\n",
    "    pass"
   ]
  },
  {
   "cell_type": "code",
   "execution_count": 16,
   "id": "822fcee3",
   "metadata": {},
   "outputs": [],
   "source": [
    "class Inventory:\n",
    "    def __init__(self):\n",
    "        self.__items =[] # __ 입력하면 외부에서 읽지 못함.\n",
    "        \n",
    "    def add_new_item(self, product):\n",
    "        if type(product) == Product:\n",
    "            self.__items.append(product)\n",
    "            print(\"new item added\")\n",
    "        else:\n",
    "            raise ValueError(\"Invalid Item\")\n",
    "    \n",
    "    def get_number_of_items(self):\n",
    "        return len(self.__items)"
   ]
  },
  {
   "cell_type": "code",
   "execution_count": 17,
   "id": "60dca304",
   "metadata": {},
   "outputs": [],
   "source": [
    "my_inventory = Inventory()"
   ]
  },
  {
   "cell_type": "code",
   "execution_count": 18,
   "id": "f4ef008c",
   "metadata": {
    "scrolled": false
   },
   "outputs": [
    {
     "name": "stdout",
     "output_type": "stream",
     "text": [
      "new item added\n"
     ]
    }
   ],
   "source": [
    "my_inventory.add_new_item(Product())"
   ]
  },
  {
   "cell_type": "code",
   "execution_count": 24,
   "id": "f7ad983d",
   "metadata": {
    "scrolled": true
   },
   "outputs": [
    {
     "ename": "AttributeError",
     "evalue": "'Inventory' object has no attribute 'items'",
     "output_type": "error",
     "traceback": [
      "\u001b[0;31m---------------------------------------------------------------------------\u001b[0m",
      "\u001b[0;31mAttributeError\u001b[0m                            Traceback (most recent call last)",
      "\u001b[0;32m/tmp/ipykernel_1206/4164703638.py\u001b[0m in \u001b[0;36m<module>\u001b[0;34m\u001b[0m\n\u001b[0;32m----> 1\u001b[0;31m \u001b[0mmy_inventory\u001b[0m\u001b[0;34m.\u001b[0m\u001b[0mitems\u001b[0m\u001b[0;34m\u001b[0m\u001b[0;34m\u001b[0m\u001b[0m\n\u001b[0m",
      "\u001b[0;31mAttributeError\u001b[0m: 'Inventory' object has no attribute 'items'"
     ]
    }
   ],
   "source": [
    "my_inventory.items"
   ]
  },
  {
   "cell_type": "code",
   "execution_count": 25,
   "id": "ed1787ff",
   "metadata": {},
   "outputs": [],
   "source": [
    "class Inventory:\n",
    "    def __init__(self):\n",
    "        self.__items =[]\n",
    "        \n",
    "    @property # 데코레이터를 추가해서 내부에서 items를 읽을 수 있게 함.\n",
    "    def items(self):\n",
    "        return self.__items\n",
    "        \n",
    "    def add_new_item(self, product):\n",
    "        if type(product) == Product:\n",
    "            self.__items.append(product)\n",
    "            print(\"new item added\")\n",
    "        else:\n",
    "            raise ValueError(\"Invalid Item\")\n",
    "    \n",
    "    def get_number_of_items(self):\n",
    "        return len(self.__items)"
   ]
  },
  {
   "cell_type": "code",
   "execution_count": 26,
   "id": "712d0b8a",
   "metadata": {},
   "outputs": [],
   "source": [
    "my_inventory = Inventory()"
   ]
  },
  {
   "cell_type": "code",
   "execution_count": 27,
   "id": "779533ce",
   "metadata": {
    "scrolled": true
   },
   "outputs": [
    {
     "name": "stdout",
     "output_type": "stream",
     "text": [
      "new item added\n"
     ]
    }
   ],
   "source": [
    "my_inventory.add_new_item(Product())"
   ]
  },
  {
   "cell_type": "code",
   "execution_count": 34,
   "id": "92259ef7",
   "metadata": {
    "scrolled": true
   },
   "outputs": [
    {
     "data": {
      "text/plain": [
       "[<__main__.Product at 0x7f3b7c67e640>]"
      ]
     },
     "execution_count": 34,
     "metadata": {},
     "output_type": "execute_result"
    }
   ],
   "source": [
    "my_inventory.items"
   ]
  },
  {
   "cell_type": "code",
   "execution_count": 35,
   "id": "2ac1b6e1",
   "metadata": {},
   "outputs": [],
   "source": [
    "my_inventory.items.append('a')"
   ]
  },
  {
   "cell_type": "code",
   "execution_count": 36,
   "id": "23c6eb4c",
   "metadata": {
    "scrolled": true
   },
   "outputs": [
    {
     "data": {
      "text/plain": [
       "[<__main__.Product at 0x7f3b7c67e640>, 'a']"
      ]
     },
     "execution_count": 36,
     "metadata": {},
     "output_type": "execute_result"
    }
   ],
   "source": [
    "my_inventory.items"
   ]
  },
  {
   "cell_type": "markdown",
   "id": "417bccf2",
   "metadata": {},
   "source": [
    "데코레이터를 사용해도 이런식으로 수정도 가능하기 때문에 이렇게 안하고 카피를 해서 반환을 해줄 수 있다고 함. 앞에서 배웠다는데 난 모르겠음 앞에 가서 찾아봐야겠음."
   ]
  }
 ],
 "metadata": {
  "kernelspec": {
   "display_name": "Python 3 (ipykernel)",
   "language": "python",
   "name": "python3"
  },
  "language_info": {
   "codemirror_mode": {
    "name": "ipython",
    "version": 3
   },
   "file_extension": ".py",
   "mimetype": "text/x-python",
   "name": "python",
   "nbconvert_exporter": "python",
   "pygments_lexer": "ipython3",
   "version": "3.8.10"
  }
 },
 "nbformat": 4,
 "nbformat_minor": 5
}
