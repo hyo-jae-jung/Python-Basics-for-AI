{
 "cells": [
  {
   "cell_type": "code",
   "execution_count": 3,
   "id": "f55c29ce",
   "metadata": {},
   "outputs": [
    {
     "name": "stdout",
     "output_type": "stream",
     "text": [
      "{'a': {'page_num': 0, 'title': 'a'}, 'b': {'page_num': 1, 'title': 'b'}}\n"
     ]
    }
   ],
   "source": [
    "book ={}\n",
    "book['a'] = {'page_num':0, 'title':'a'}\n",
    "book['b'] = {'page_num':1, 'title':'b'}\n",
    "\n",
    "print(book)"
   ]
  },
  {
   "cell_type": "code",
   "execution_count": 5,
   "id": "9bf1f0a9",
   "metadata": {},
   "outputs": [
    {
     "data": {
      "text/plain": [
       "dict"
      ]
     },
     "execution_count": 5,
     "metadata": {},
     "output_type": "execute_result"
    }
   ],
   "source": [
    "type(book['a'])"
   ]
  }
 ],
 "metadata": {
  "kernelspec": {
   "display_name": "Python 3 (ipykernel)",
   "language": "python",
   "name": "python3"
  },
  "language_info": {
   "codemirror_mode": {
    "name": "ipython",
    "version": 3
   },
   "file_extension": ".py",
   "mimetype": "text/x-python",
   "name": "python",
   "nbconvert_exporter": "python",
   "pygments_lexer": "ipython3",
   "version": "3.8.10"
  }
 },
 "nbformat": 4,
 "nbformat_minor": 5
}
