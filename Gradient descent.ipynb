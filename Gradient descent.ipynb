{
 "cells": [
  {
   "cell_type": "code",
   "execution_count": 100,
   "id": "28724be2",
   "metadata": {
    "scrolled": true
   },
   "outputs": [
    {
     "data": {
      "text/latex": [
       "$\\displaystyle \\operatorname{Poly}{\\left( 2 x + 2, x, domain=\\mathbb{Z} \\right)}$"
      ],
      "text/plain": [
       "Poly(2*x + 2, x, domain='ZZ')"
      ]
     },
     "execution_count": 100,
     "metadata": {},
     "output_type": "execute_result"
    }
   ],
   "source": [
    "import numpy as np\n",
    "import sympy as sym\n",
    "# from sympy import Symbol\n",
    "\n",
    "x = Symbol('x')\n",
    "\n",
    "sym.diff(sym.poly(x**2 + 2*x + 3), x)"
   ]
  },
  {
   "cell_type": "code",
   "execution_count": 101,
   "id": "00154146",
   "metadata": {},
   "outputs": [
    {
     "data": {
      "text/latex": [
       "$\\displaystyle \\operatorname{Poly}{\\left( 2 x + 2, x, domain=\\mathbb{Z} \\right)}$"
      ],
      "text/plain": [
       "Poly(2*x + 2, x, domain='ZZ')"
      ]
     },
     "execution_count": 101,
     "metadata": {},
     "output_type": "execute_result"
    }
   ],
   "source": [
    "import sympy as sym\n",
    "# from sympy.abc import x\n",
    "\n",
    "sym.diff(sym.poly(x**2 + 2*x + 3), x)"
   ]
  },
  {
   "cell_type": "markdown",
   "id": "f824053a",
   "metadata": {},
   "source": [
    "This page help me understand sympy.abc library.\n",
    "https://www.tutorialspoint.com/sympy/sympy_symbols.htm"
   ]
  },
  {
   "cell_type": "code",
   "execution_count": 76,
   "id": "71d564ec",
   "metadata": {},
   "outputs": [],
   "source": [
    "def func(value):\n",
    "    fun = sym.poly(x**2 + 2*x + 3)\n",
    "    return fun.subs(x, value), fun"
   ]
  },
  {
   "cell_type": "markdown",
   "id": "4294b7a6",
   "metadata": {},
   "source": [
    "https://allman84.blogspot.com/2018/10/sympy.html\n",
    "subs method change from arg1 to arg2"
   ]
  },
  {
   "cell_type": "code",
   "execution_count": 35,
   "id": "a8187249",
   "metadata": {},
   "outputs": [],
   "source": [
    "def func_gradient(f, val):\n",
    "    _, function = f(val)\n",
    "    diff = sym.diff(function,x)\n",
    "    return diff.subs(x,val), diff"
   ]
  },
  {
   "cell_type": "code",
   "execution_count": 49,
   "id": "d271ae6d",
   "metadata": {
    "scrolled": true
   },
   "outputs": [
    {
     "data": {
      "text/plain": [
       "(-8, Poly(2*x + 2, x, domain='ZZ'))"
      ]
     },
     "execution_count": 49,
     "metadata": {},
     "output_type": "execute_result"
    }
   ],
   "source": [
    "func_gradient(func,-5)"
   ]
  },
  {
   "cell_type": "code",
   "execution_count": 39,
   "id": "5f6fe0d7",
   "metadata": {},
   "outputs": [],
   "source": [
    "def gradient_descent(fun, init_point, lr_rate=1e-2, epsilon=1e-5):\n",
    "    cnt=0\n",
    "    val = init_point\n",
    "    diff, _ = func_gradient(fun, init_point)\n",
    "    while np.abs(diff) > epsilon:\n",
    "        val = val - lr_rate*diff\n",
    "        diff, _ = func_gradient(fun,val)\n",
    "        cnt+=1\n",
    "        \n",
    "    print(\"함수: {}, 연산횟수: {}, 최소점: ({}, {})\".format(fun(val)[1], cnt, val, fun(val)[0]))"
   ]
  },
  {
   "cell_type": "code",
   "execution_count": 48,
   "id": "0f6c8fc0",
   "metadata": {
    "scrolled": false
   },
   "outputs": [
    {
     "name": "stdout",
     "output_type": "stream",
     "text": [
      "함수: Poly(x**2 + 2*x + 3, x, domain='ZZ'), 연산횟수: 595, 최소점: (-1.00000490784088, 2.00000000002409)\n"
     ]
    }
   ],
   "source": [
    "gradient_descent(func,np.random.uniform(-2,2))"
   ]
  },
  {
   "cell_type": "markdown",
   "id": "67570a1a",
   "metadata": {},
   "source": [
    "Partial Differentiation"
   ]
  },
  {
   "cell_type": "code",
   "execution_count": 50,
   "id": "b5b0b7ab",
   "metadata": {
    "scrolled": false
   },
   "outputs": [
    {
     "data": {
      "text/latex": [
       "$\\displaystyle 2 x + 2 y - \\sin{\\left(x + 2 y \\right)}$"
      ],
      "text/plain": [
       "2*x + 2*y - sin(x + 2*y)"
      ]
     },
     "execution_count": 50,
     "metadata": {},
     "output_type": "execute_result"
    }
   ],
   "source": [
    "from sympy.abc import x, y\n",
    "\n",
    "sym.diff(sym.poly(x**2 + 2*x*y + 3) + sym.cos(x + 2*y),x)"
   ]
  },
  {
   "cell_type": "markdown",
   "id": "5f392193",
   "metadata": {},
   "source": [
    "Multivariate Gradient Descent"
   ]
  },
  {
   "cell_type": "code",
   "execution_count": 216,
   "id": "1d2dcca8",
   "metadata": {},
   "outputs": [],
   "source": [
    "def eval_(fun, val):\n",
    "    val_x, val_y = val\n",
    "    fun_eval = fun.subs(x, val_x).subs(y, val_y)\n",
    "    return fun_eval\n",
    "\n",
    "def func_multi(val):\n",
    "    x_, y_ = val\n",
    "    func = sym.poly(x**2 + 2*y**2)\n",
    "    return eval_(func, [x_, y_]), func\n",
    "\n",
    "def func_gradient(fun, val):\n",
    "    x_, y_ = val\n",
    "    _, function = fun(val)\n",
    "    diff_x = sym.diff(function,x)\n",
    "    diff_y = sym.diff(function,y)\n",
    "    grad_vec = np.array([eval_(diff_x,[x_, y_]), eval_(diff_y, [x_, y_])],dtype=float)\n",
    "    return grad_vec, [diff_x, diff_y]\n",
    "\n",
    "def gradient_descent(fun, init_point, lr_rate=1e-2, epsilon=1e-5):\n",
    "    cnt=0\n",
    "    val = init_point\n",
    "    diff, _ = func_gradient(fun,val)\n",
    "    while np.linalg.norm(diff) > epsilon:\n",
    "        val = val - lr_rate*diff\n",
    "        diff, _ = func_gradient(fun, val)\n",
    "        cnt+=1\n",
    "    print(\"함수: {}, 연산횟수: {}, 최소점: ({}, {})\".format(fun(val)[1],cnt,val,fun(val)[0]))"
   ]
  },
  {
   "cell_type": "code",
   "execution_count": 217,
   "id": "9d69beae",
   "metadata": {
    "scrolled": true
   },
   "outputs": [
    {
     "name": "stdout",
     "output_type": "stream",
     "text": [
      "함수: Poly(x**2 + 2*y**2, x, y, domain='ZZ'), 연산횟수: 588, 최소점: ([ 4.99501537e-06 -3.72902027e-12], 2.49501784984900E-11)\n"
     ]
    }
   ],
   "source": [
    "pt=[np.random.uniform(-2,2),np.random.uniform(-2,2)]\n",
    "gradient_descent(fun=func_multi, init_point=pt)"
   ]
  },
  {
   "cell_type": "markdown",
   "id": "57e8fd77",
   "metadata": {},
   "source": [
    "Practice"
   ]
  },
  {
   "cell_type": "code",
   "execution_count": 241,
   "id": "826e601c",
   "metadata": {},
   "outputs": [],
   "source": [
    "import numpy as np\n",
    "import sympy as sym\n",
    "from sympy.abc import x, y\n",
    "\n",
    "func = sym.poly(x**2 + 2*y**2)\n",
    "\n",
    "def gradient(function, value):\n",
    "    x_val,y_val = value\n",
    "    diff_x = sym.diff(function,x)\n",
    "    diff_y = sym.diff(function,y)\n",
    "    return np.array([diff_x.subs(x,x_val).subs(y,y_val), diff_y.subs(x,x_val).subs(y,y_val)],dtype=float)\n",
    "\n",
    "def gradient_descent(fun, init_point, lr_rate=1e-2, epsilon=1e-5):\n",
    "    cnt=0\n",
    "    val = init_point\n",
    "    diff = gradient(fun,val)\n",
    "    while np.linalg.norm(diff) > epsilon:\n",
    "        val = val - lr_rate*diff\n",
    "        diff = gradient(func,val)\n",
    "        cnt+=1\n",
    "        \n",
    "    print(f\"연산횟수 : {cnt},\\n최소점 : {val},\\n diff : {diff}\")\n",
    "    \n",
    "pt=[np.random.uniform(-2,2),np.random.uniform(-2,2)]"
   ]
  },
  {
   "cell_type": "code",
   "execution_count": 242,
   "id": "b7930772",
   "metadata": {
    "scrolled": true
   },
   "outputs": [
    {
     "name": "stdout",
     "output_type": "stream",
     "text": [
      "연산횟수 : 629,\n",
      "최소점 : [ 4.97794222e-06 -2.85275056e-12],\n",
      " diff : [ 9.95588443e-06 -1.14110023e-11]\n"
     ]
    }
   ],
   "source": [
    "gradient_descent(fun=func,init_point=pt)"
   ]
  }
 ],
 "metadata": {
  "kernelspec": {
   "display_name": "Python 3 (ipykernel)",
   "language": "python",
   "name": "python3"
  },
  "language_info": {
   "codemirror_mode": {
    "name": "ipython",
    "version": 3
   },
   "file_extension": ".py",
   "mimetype": "text/x-python",
   "name": "python",
   "nbconvert_exporter": "python",
   "pygments_lexer": "ipython3",
   "version": "3.8.10"
  }
 },
 "nbformat": 4,
 "nbformat_minor": 5
}
