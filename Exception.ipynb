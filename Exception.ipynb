{
 "cells": [
  {
   "cell_type": "markdown",
   "id": "68d5339d",
   "metadata": {},
   "source": [
    "Built-in Exception: 기본적으로제공하는예외\n",
    "Exception 이름 :내용\n",
    "IndexError :List의 Index 범위를 넘어갈 때\n",
    "NameError :존재하지 않은 변수를 호출 할 때\n",
    "ZeroDivisionError :0으로 숫자를 나눌 때\n",
    "ValueError :변환할 수 없는 문자/숫자를 변환할 때\n",
    "FileNotFoundError :존재하지 않는 파일을 호출할 때\n",
    "https://docs.python.org/3/library/exceptions.html"
   ]
  },
  {
   "cell_type": "markdown",
   "id": "8607065e",
   "metadata": {},
   "source": [
    "try ~ except"
   ]
  },
  {
   "cell_type": "code",
   "execution_count": 7,
   "id": "d05c84eb",
   "metadata": {
    "scrolled": true
   },
   "outputs": [
    {
     "name": "stdout",
     "output_type": "stream",
     "text": [
      "division by zero\n",
      "Not divided by 0\n",
      "10.0\n",
      "5.0\n",
      "3.3333333333333335\n",
      "2.5\n",
      "2.0\n",
      "1.6666666666666667\n",
      "1.4285714285714286\n",
      "1.25\n",
      "1.1111111111111112\n",
      "1.0\n"
     ]
    }
   ],
   "source": [
    "for i in range(11):\n",
    "    try:\n",
    "        print(10 / i)\n",
    "    except ZeroDivisionError as e:\n",
    "        print(e)\n",
    "        print(\"Not divided by 0\")"
   ]
  },
  {
   "cell_type": "markdown",
   "id": "2034c149",
   "metadata": {},
   "source": [
    "try ~ except ~ else"
   ]
  },
  {
   "cell_type": "code",
   "execution_count": 9,
   "id": "0e5944fb",
   "metadata": {
    "scrolled": true
   },
   "outputs": [
    {
     "name": "stdout",
     "output_type": "stream",
     "text": [
      "Not divided by 0\n",
      "10.0\n",
      "5.0\n",
      "3.3333333333333335\n",
      "2.5\n",
      "2.0\n",
      "1.6666666666666667\n",
      "1.4285714285714286\n",
      "1.25\n",
      "1.1111111111111112\n"
     ]
    }
   ],
   "source": [
    "for i in range(10):\n",
    "    try:\n",
    "        result = 10 / i\n",
    "    except ZeroDivisionError:\n",
    "        print(\"Not divided by 0\")\n",
    "    else:\n",
    "        print(10 / i)"
   ]
  },
  {
   "cell_type": "markdown",
   "id": "68d15b7e",
   "metadata": {},
   "source": [
    "try ~ except ~ finally"
   ]
  },
  {
   "cell_type": "code",
   "execution_count": 11,
   "id": "db19b1e4",
   "metadata": {
    "scrolled": false
   },
   "outputs": [
    {
     "name": "stdout",
     "output_type": "stream",
     "text": [
      "Not divided by 0\n",
      "종료되었습니다.\n"
     ]
    }
   ],
   "source": [
    "try:\n",
    "    for i in range(0, 10):\n",
    "        result = 10 // i\n",
    "        print(result)\n",
    "except ZeroDivisionError:\n",
    "    print(\"Not divided by 0\")\n",
    "finally:\n",
    "    print(\"종료되었습니다.\")"
   ]
  },
  {
   "cell_type": "markdown",
   "id": "7b2432f8",
   "metadata": {},
   "source": [
    "raise"
   ]
  },
  {
   "cell_type": "code",
   "execution_count": 15,
   "id": "5c62db95",
   "metadata": {
    "scrolled": true
   },
   "outputs": [
    {
     "name": "stdout",
     "output_type": "stream",
     "text": [
      "변환할 정수 값을 입력해주세요2\n",
      "정수값으로 변환된 숫자 - 2\n",
      "변환할 정수 값을 입력해주세요10\n",
      "정수값으로 변환된 숫자 - 10\n",
      "변환할 정수 값을 입력해주세요100\n",
      "정수값으로 변환된 숫자 - 100\n",
      "변환할 정수 값을 입력해주세요0\n",
      "정수값으로 변환된 숫자 - 0\n",
      "변환할 정수 값을 입력해주세요-1\n"
     ]
    },
    {
     "ename": "ValueError",
     "evalue": "숫자값을 입력하지않으셨습니다",
     "output_type": "error",
     "traceback": [
      "\u001b[0;31m---------------------------------------------------------------------------\u001b[0m",
      "\u001b[0;31mValueError\u001b[0m                                Traceback (most recent call last)",
      "\u001b[0;32m/tmp/ipykernel_954/3579608548.py\u001b[0m in \u001b[0;36m<module>\u001b[0;34m\u001b[0m\n\u001b[1;32m      3\u001b[0m     \u001b[0;32mfor\u001b[0m \u001b[0mdigit\u001b[0m \u001b[0;32min\u001b[0m \u001b[0mvalue\u001b[0m\u001b[0;34m:\u001b[0m\u001b[0;34m\u001b[0m\u001b[0;34m\u001b[0m\u001b[0m\n\u001b[1;32m      4\u001b[0m         \u001b[0;32mif\u001b[0m \u001b[0mdigit\u001b[0m \u001b[0;32mnot\u001b[0m \u001b[0;32min\u001b[0m \u001b[0;34m\"0123456789\"\u001b[0m\u001b[0;34m:\u001b[0m\u001b[0;34m\u001b[0m\u001b[0;34m\u001b[0m\u001b[0m\n\u001b[0;32m----> 5\u001b[0;31m             \u001b[0;32mraise\u001b[0m \u001b[0mValueError\u001b[0m\u001b[0;34m(\u001b[0m\u001b[0;34m\"숫자값을 입력하지않으셨습니다\"\u001b[0m\u001b[0;34m)\u001b[0m\u001b[0;34m\u001b[0m\u001b[0;34m\u001b[0m\u001b[0m\n\u001b[0m\u001b[1;32m      6\u001b[0m     \u001b[0mprint\u001b[0m\u001b[0;34m(\u001b[0m\u001b[0;34m\"정수값으로 변환된 숫자 -\"\u001b[0m\u001b[0;34m,\u001b[0m \u001b[0mint\u001b[0m\u001b[0;34m(\u001b[0m\u001b[0mvalue\u001b[0m\u001b[0;34m)\u001b[0m\u001b[0;34m)\u001b[0m\u001b[0;34m\u001b[0m\u001b[0;34m\u001b[0m\u001b[0m\n",
      "\u001b[0;31mValueError\u001b[0m: 숫자값을 입력하지않으셨습니다"
     ]
    }
   ],
   "source": [
    "while True:\n",
    "    value = input(\"변환할 정수 값을 입력해주세요\")\n",
    "    for digit in value:\n",
    "        if digit not in \"0123456789\":\n",
    "            raise ValueError(\"숫자값을 입력하지않으셨습니다\")\n",
    "    print(\"정수값으로 변환된 숫자 -\", int(value))"
   ]
  },
  {
   "cell_type": "markdown",
   "id": "0a8f206d",
   "metadata": {},
   "source": [
    "assert"
   ]
  },
  {
   "cell_type": "code",
   "execution_count": 19,
   "id": "6f3e0226",
   "metadata": {
    "scrolled": false
   },
   "outputs": [
    {
     "name": "stdout",
     "output_type": "stream",
     "text": [
      "0b1011\n"
     ]
    }
   ],
   "source": [
    "def get_binary_nmubmer(decimal_number):\n",
    "    assert isinstance(decimal_number, int)\n",
    "    return bin(decimal_number)\n",
    "print(get_binary_nmubmer(11))"
   ]
  }
 ],
 "metadata": {
  "kernelspec": {
   "display_name": "Python 3 (ipykernel)",
   "language": "python",
   "name": "python3"
  },
  "language_info": {
   "codemirror_mode": {
    "name": "ipython",
    "version": 3
   },
   "file_extension": ".py",
   "mimetype": "text/x-python",
   "name": "python",
   "nbconvert_exporter": "python",
   "pygments_lexer": "ipython3",
   "version": "3.8.10"
  }
 },
 "nbformat": 4,
 "nbformat_minor": 5
}
